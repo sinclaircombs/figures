{
 "cells": [
  {
   "cell_type": "code",
   "execution_count": 1,
   "id": "2d783bf6",
   "metadata": {},
   "outputs": [],
   "source": [
    "# Code snippet to import multiple files from a specified directory"
   ]
  },
  {
   "cell_type": "code",
   "execution_count": 2,
   "id": "1654ed66",
   "metadata": {},
   "outputs": [],
   "source": [
    "import glob"
   ]
  },
  {
   "cell_type": "code",
   "execution_count": 3,
   "id": "9d4600c6",
   "metadata": {},
   "outputs": [],
   "source": [
    "# define function that creates a list of files in a given folder\n",
    "\n",
    "def file_directory(path):\n",
    "    #if you want to specify a file type, replace \"/*\" with \"/*.extension\"\n",
    "    list_files = glob.glob(path + \"/*\")\n",
    "    return list_files"
   ]
  },
  {
   "cell_type": "code",
   "execution_count": 4,
   "id": "b95b4035",
   "metadata": {},
   "outputs": [],
   "source": [
    "# specify the file path\n",
    "# I usually use the absolute path since my jupyter notebooks are store in a different location than my data files\n",
    "\n",
    "path1 = \\\n",
    "\"C:/Users/sincl/Documents/MaughanLab/\""
   ]
  },
  {
   "cell_type": "code",
   "execution_count": 5,
   "id": "ac07e882",
   "metadata": {},
   "outputs": [
    {
     "name": "stdout",
     "output_type": "stream",
     "text": [
      "['C:/Users/sincl/Documents/MaughanLab\\\\11-BM-B', 'C:/Users/sincl/Documents/MaughanLab\\\\11-ID-B', 'C:/Users/sincl/Documents/MaughanLab\\\\17-BM-B', 'C:/Users/sincl/Documents/MaughanLab\\\\admin', 'C:/Users/sincl/Documents/MaughanLab\\\\CIFs', 'C:/Users/sincl/Documents/MaughanLab\\\\figures', 'C:/Users/sincl/Documents/MaughanLab\\\\Kobi', 'C:/Users/sincl/Documents/MaughanLab\\\\PDF', 'C:/Users/sincl/Documents/MaughanLab\\\\presentations', 'C:/Users/sincl/Documents/MaughanLab\\\\PXRD_Mines_Bruker', 'C:/Users/sincl/Documents/MaughanLab\\\\readings', 'C:/Users/sincl/Documents/MaughanLab\\\\scripts', 'C:/Users/sincl/Documents/MaughanLab\\\\stacking_faults', 'C:/Users/sincl/Documents/MaughanLab\\\\synthesis', 'C:/Users/sincl/Documents/MaughanLab\\\\TOPAS6_Tutorial', 'C:/Users/sincl/Documents/MaughanLab\\\\writing']\n"
     ]
    }
   ],
   "source": [
    "# assign variable name to working file directory -- this will allow you to call files from the specified location\n",
    "\n",
    "current_directory = file_directory(path1)\n",
    "\n",
    "print(current_directory)"
   ]
  },
  {
   "cell_type": "code",
   "execution_count": null,
   "id": "677b56c0",
   "metadata": {},
   "outputs": [],
   "source": []
  }
 ],
 "metadata": {
  "kernelspec": {
   "display_name": "Python 3 (ipykernel)",
   "language": "python",
   "name": "python3"
  },
  "language_info": {
   "codemirror_mode": {
    "name": "ipython",
    "version": 3
   },
   "file_extension": ".py",
   "mimetype": "text/x-python",
   "name": "python",
   "nbconvert_exporter": "python",
   "pygments_lexer": "ipython3",
   "version": "3.9.15"
  }
 },
 "nbformat": 4,
 "nbformat_minor": 5
}
