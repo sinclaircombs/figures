{
 "cells": [
  {
   "cell_type": "code",
   "execution_count": 5,
   "id": "d2010383",
   "metadata": {},
   "outputs": [],
   "source": [
    "# Code snippet to generate a color gradient"
   ]
  },
  {
   "cell_type": "code",
   "execution_count": null,
   "id": "39acbf1f",
   "metadata": {},
   "outputs": [],
   "source": [
    "from colour import Color\n",
    "import matplotlib.pyplot as plt"
   ]
  },
  {
   "cell_type": "code",
   "execution_count": 14,
   "id": "2b4bbfc9",
   "metadata": {},
   "outputs": [],
   "source": [
    "# default here is a rainbow gradient\n",
    "# https://www.color-hex.com/ and https://coolors.co/ are great sites to find palettes\n",
    "\n",
    "# define starting and ending colors of the gradient using hex codes\n",
    "start_color = Color(\"#FF0000\")\n",
    "end_color = Color(\"#962fbf\")\n",
    "\n",
    "# define number of colors to be generated\n",
    "num_colors = 50\n",
    "\n",
    "# generate list of hex codes for gradient\n",
    "colors_list = list(start_color.range_to(end_color, num_colors))\n",
    "\n",
    "# to use a color in a plot -- color = colors_list[i].hex"
   ]
  },
  {
   "cell_type": "code",
   "execution_count": 15,
   "id": "a17a9987",
   "metadata": {},
   "outputs": [
    {
     "data": {
      "image/png": "[encoded data removed]",
      "text/plain": [
       "<Figure size 640x480 with 1 Axes>"
      ]
     },
     "metadata": {},
     "output_type": "display_data"
    }
   ],
   "source": [
    "# test out the gradient\n",
    "plt.figure()\n",
    "\n",
    "dummy_list = {}\n",
    "for i in range(0, num_colors):\n",
    "    dummy_list[i] = i\n",
    "\n",
    "for i in range(0, num_colors):\n",
    "    plt.bar(dummy_list[i], height=10,width=1, bottom=0, align='center', data=None, color=colors_list[i].hex)"
   ]
  },
  {
   "cell_type": "code",
   "execution_count": null,
   "id": "8ab454ab",
   "metadata": {},
   "outputs": [],
   "source": []
  }
 ],
 "metadata": {
  "kernelspec": {
   "display_name": "Python 3 (ipykernel)",
   "language": "python",
   "name": "python3"
  },
  "language_info": {
   "codemirror_mode": {
    "name": "ipython",
    "version": 3
   },
   "file_extension": ".py",
   "mimetype": "text/x-python",
   "name": "python",
   "nbconvert_exporter": "python",
   "pygments_lexer": "ipython3",
   "version": "3.9.15"
  }
 },
 "nbformat": 4,
 "nbformat_minor": 5
}
